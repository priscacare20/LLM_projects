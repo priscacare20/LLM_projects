{
 "cells": [
  {
   "cell_type": "code",
   "execution_count": 4,
   "id": "2e3d0013-e890-44da-967c-c19a1aa61c76",
   "metadata": {},
   "outputs": [],
   "source": [
    "import ollama\n",
    "from IPython.display import Markdown, display"
   ]
  },
  {
   "cell_type": "code",
   "execution_count": 2,
   "id": "01340ea5-e73a-4303-be34-0786d031d36d",
   "metadata": {},
   "outputs": [
    {
     "name": "stderr",
     "output_type": "stream",
     "text": [
      "\u001b[?25lpulling manifest â ‹ \u001b[?25h\u001b[?25l\u001b[2K\u001b[1Gpulling manifest â ™ \u001b[?25h\u001b[?25l\u001b[2K\u001b[1Gpulling manifest â ¹ \u001b[?25h\u001b[?25l\u001b[2K\u001b[1Gpulling manifest â ¸ \u001b[?25h\u001b[?25l\u001b[2K\u001b[1Gpulling manifest â ¼ \u001b[?25h\u001b[?25l\u001b[2K\u001b[1Gpulling manifest â ´ \u001b[?25h\u001b[?25l\u001b[2K\u001b[1Gpulling manifest â ¦ \u001b[?25h\u001b[?25l\u001b[2K\u001b[1Gpulling manifest â § \u001b[?25h\u001b[?25l\u001b[2K\u001b[1Gpulling manifest â ‡ \u001b[?25h\u001b[?25l\u001b[2K\u001b[1Gpulling manifest â � \u001b[?25h\u001b[?25l\u001b[2K\u001b[1Gpulling manifest â ‹ \u001b[?25h\u001b[?25l\u001b[2K\u001b[1Gpulling manifest â ™ \u001b[?25h\u001b[?25l\u001b[2K\u001b[1Gpulling manifest â ¹ \u001b[?25h\u001b[?25l\u001b[2K\u001b[1Gpulling manifest â ¸ \u001b[?25h\u001b[?25l\u001b[2K\u001b[1Gpulling manifest \n",
      "pulling 96c415656d37... 100% â–•â–ˆâ–ˆâ–ˆâ–ˆâ–ˆâ–ˆâ–ˆâ–ˆâ–ˆâ–ˆâ–ˆâ–ˆâ–ˆâ–ˆâ–ˆâ–ˆâ–� 4.7 GB                         \n",
      "pulling 369ca498f347... 100% â–•â–ˆâ–ˆâ–ˆâ–ˆâ–ˆâ–ˆâ–ˆâ–ˆâ–ˆâ–ˆâ–ˆâ–ˆâ–ˆâ–ˆâ–ˆâ–ˆâ–�  387 B                         \n",
      "pulling 6e4c38e1172f... 100% â–•â–ˆâ–ˆâ–ˆâ–ˆâ–ˆâ–ˆâ–ˆâ–ˆâ–ˆâ–ˆâ–ˆâ–ˆâ–ˆâ–ˆâ–ˆâ–ˆâ–� 1.1 KB                         \n",
      "pulling f4d24e9138dd... 100% â–•â–ˆâ–ˆâ–ˆâ–ˆâ–ˆâ–ˆâ–ˆâ–ˆâ–ˆâ–ˆâ–ˆâ–ˆâ–ˆâ–ˆâ–ˆâ–ˆâ–�  148 B                         \n",
      "pulling 40fb844194b2... 100% â–•â–ˆâ–ˆâ–ˆâ–ˆâ–ˆâ–ˆâ–ˆâ–ˆâ–ˆâ–ˆâ–ˆâ–ˆâ–ˆâ–ˆâ–ˆâ–ˆâ–�  487 B                         \n",
      "verifying sha256 digest \n",
      "writing manifest \n",
      "success \u001b[?25h\n"
     ]
    }
   ],
   "source": [
    "# set constants used by by ollama\n",
    "\n",
    "OLLAMA_API = \"http://locahost:11434/api/chat\"\n",
    "MODEL = \"deepseek-r1:1.5b\"\n",
    "\n",
    "# to check if model is loaded\n",
    "!ollama pull deepseek-r1"
   ]
  },
  {
   "cell_type": "code",
   "execution_count": 8,
   "id": "0c14aff8-af8f-45e1-b7d4-fff009707eb7",
   "metadata": {},
   "outputs": [
    {
     "data": {
      "text/markdown": [
       "<think>\n",
       "Alright, so I need to find the volume of a cylinder. The problem says that the height is 7 cm. Hmm, okay. Let me think about how to approach this.\n",
       "\n",
       "First, I remember that the formula for the volume of a cylinder involves the area of its base multiplied by its height. The base of a cylinder is a circle, so the area should be calculated using the radius or diameter. Since we're given the height but not the radius, I wonder if there's any information missing here. Is the diameter provided? No, it just mentions the height.\n",
       "\n",
       "Wait, maybe I can recall the formula again. It goes like this: Volume = π * r² * h. So, yes, I need the radius and the height. But we only have the height, which is 7 cm. That's a bit confusing because without the radius or diameter, I don't know how to find the volume. Did I miss something?\n",
       "\n",
       "Let me check the problem statement again: \"What is the volume of cylinder with height of 7cm.\" No other details are given about the radius or diameter. Hmm, maybe in this context, it's assumed that the radius is a standard value? Or perhaps there's an implied relationship between the radius and some other measurement?\n",
       "\n",
       "Alternatively, could it be possible that the problem expects me to express the volume in terms of π without plugging in numbers for r? That would make sense because we don't have enough information. If so, then Volume = π * r² * 7 cm. But the question seems to ask for a numerical value, which suggests they want it in centimeters cubed.\n",
       "\n",
       "Another thought: Maybe there's more context or information that I'm not seeing? The problem is pretty straightforward, but without the radius, it's tricky. Perhaps in some textbooks or problems, if only height and volume are asked, sometimes π is included implicitly, like Volume = 7π cm³. But again, that feels incomplete.\n",
       "\n",
       "Wait a minute, let me think about units. If the height is given in centimeters, then the volume should be in cubic centimeters (cm³). So, to express it with all the units correctly would be important, but since we're just asked for what's the volume, and without more details, maybe it's best to present the formula in terms of radius.\n",
       "\n",
       "So, putting it all together, if I can't find the radius, then Volume = π * r² * 7 cm³. But again, that feels incomplete because you need a specific value for r. Unless... Wait, is there any way around this? Maybe the problem assumes that we have a cylinder with a standard diameter or radius?\n",
       "\n",
       "Alternatively, could I have missed a piece of information in my question? The problem only mentions height as 7 cm. Without more details about the cylinder's dimensions, it's impossible to calculate the volume precisely.\n",
       "\n",
       "Wait, perhaps there's an image attached which shows the cylinder? Since this is text-based, maybe I was supposed to reference an image or have a diagram. But without that, I'm stuck with just height.\n",
       "\n",
       "Alternatively, could it be possible that the problem is part of a set where certain values are given in previous parts? For example, if earlier questions give me radius or diameter, but that's not indicated here.\n",
       "\n",
       "Hmm... Maybe I need to present the formula as Volume = π * r² * 7 cm³, acknowledging that without knowing r, we can't find a numerical value. But perhaps in the original context, there was more information that wasn't included here.\n",
       "\n",
       "Alternatively, is there any chance the question is incorrect or incomplete? It's possible that the user intended to include additional details about radius or diameter but forgot to provide them. That could be a concern for accuracy.\n",
       "\n",
       "Overall, it seems like we're missing critical information—specifically, the radius of the cylinder—to accurately compute its volume with only knowing the height. Without more data, it's impossible to determine the precise volume.\n",
       "</think>\n",
       "\n",
       "The volume of a cylinder is calculated using the formula:\n",
       "\n",
       "\\[ \\text{Volume} = \\pi r^2 h \\]\n",
       "\n",
       "Where:\n",
       "- \\( r \\) is the radius of the base,\n",
       "- \\( h \\) is the height.\n",
       "\n",
       "Given that the height (\\( h \\)) is 7 cm, but without knowing the radius (\\( r \\)), we cannot provide a numerical value for the volume. However, if expressed in terms of \\( r \\), the formula becomes:\n",
       "\n",
       "\\[ \\text{Volume} = 7\\pi r^2 \\, \\text{cm}^3 \\]\n",
       "\n",
       "But since only the height is provided and no radius is given, we cannot determine the exact volume without additional information about the cylinder's dimensions."
      ],
      "text/plain": [
       "<IPython.core.display.Markdown object>"
      ]
     },
     "metadata": {},
     "output_type": "display_data"
    }
   ],
   "source": [
    "MODEL = \"deepseek-r1:1.5b\"\n",
    "\n",
    "system_prompt= \"You are a maths tutor you teach without displaying your reasoning.\"\n",
    "user_prompt= \"What is the volume of cylinder with height of 7cm\"\n",
    "\n",
    "message = [\n",
    "        {\"role\": \"system\", \"content\": system_prompt},\n",
    "        {\"role\": \"user\", \"content\": user_prompt}\n",
    "    ]\n",
    "\n",
    "response = ollama.chat(model=MODEL, messages=message)\n",
    "\n",
    "#web_summary = response.json()['message']['content']\n",
    "response = response['message']['content']\n",
    "display(Markdown(response))\n"
   ]
  },
  {
   "cell_type": "code",
   "execution_count": null,
   "id": "e5219192-61f5-46be-a706-a2f20971ba77",
   "metadata": {},
   "outputs": [],
   "source": []
  },
  {
   "cell_type": "code",
   "execution_count": null,
   "id": "2ece0428-e815-4e12-9f92-74fa42fb3a2d",
   "metadata": {},
   "outputs": [],
   "source": []
  },
  {
   "cell_type": "code",
   "execution_count": null,
   "id": "5d3c34b0-c846-43b1-bf61-f2b74684a547",
   "metadata": {},
   "outputs": [],
   "source": []
  }
 ],
 "metadata": {
  "kernelspec": {
   "display_name": "Python 3 (ipykernel)",
   "language": "python",
   "name": "python3"
  },
  "language_info": {
   "codemirror_mode": {
    "name": "ipython",
    "version": 3
   },
   "file_extension": ".py",
   "mimetype": "text/x-python",
   "name": "python",
   "nbconvert_exporter": "python",
   "pygments_lexer": "ipython3",
   "version": "3.10.16"
  },
  "toc-autonumbering": true,
  "toc-showcode": false,
  "toc-showmarkdowntxt": true
 },
 "nbformat": 4,
 "nbformat_minor": 5
}
