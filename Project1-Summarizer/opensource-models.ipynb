{
 "cells": [
  {
   "cell_type": "markdown",
   "id": "2cbafcac-0ed2-4e06-9b74-d9a8fdd16922",
   "metadata": {},
   "source": [
    "## Purpose:\n",
    "This code uses llama or DeepSeek-both are opensource model, to summarize the latest crypto news from 10 best crypto websites and emails the result to my mailbox.\n",
    "Ollama is downloaded and installed from ollama.com\n",
    "The Ollama server should runs locally on http://localhost:11434/ . To run it locally on the server user **ollama serve**\n",
    "Ollama package was use instead of the local server. It does basically thesame thing as use using the server"
   ]
  },
  {
   "cell_type": "code",
   "execution_count": null,
   "id": "3d9308a3-c39f-4516-9160-9f071a6db7ae",
   "metadata": {},
   "outputs": [],
   "source": [
    "# !pip install selenium\n",
    "# !pip install undetected-chromedriver"
   ]
  },
  {
   "cell_type": "code",
   "execution_count": 1,
   "id": "f4936bbd-342d-4436-b7c7-12d574d867f8",
   "metadata": {},
   "outputs": [],
   "source": [
    "# imports\n",
    "\n",
    "import os\n",
    "import requests\n",
    "from dotenv import load_dotenv\n",
    "from IPython.display import Markdown, display\n",
    "import ollama\n",
    "\n",
    "# import web scrappers libraries\n",
    "import undetected_chromedriver as uc\n",
    "from selenium.webdriver.common.by import By\n",
    "from selenium.webdriver.support.ui import WebDriverWait\n",
    "from selenium.webdriver.support import expected_conditions as EC\n",
    "from bs4 import BeautifulSoup\n",
    "import time"
   ]
  },
  {
   "cell_type": "code",
   "execution_count": null,
   "id": "080baec3-16ea-468e-b68f-a19629bee725",
   "metadata": {},
   "outputs": [],
   "source": []
  },
  {
   "cell_type": "markdown",
   "id": "f9ad5fbe-928d-47a3-8652-ca4be3392e15",
   "metadata": {},
   "source": [
    "### Define a website scrapper class to collect data from any website"
   ]
  },
  {
   "cell_type": "code",
   "execution_count": 2,
   "id": "40a1f072-4525-4bbf-af0e-30b9da82feca",
   "metadata": {},
   "outputs": [],
   "source": [
    "class WebsiteCrawler:\n",
    "    def __init__(self, url, wait_time=20, chrome_binary_path=None):\n",
    "        \"\"\"\n",
    "        Initialize the WebsiteCrawler using Selenium to scrape JavaScript-rendered content.\n",
    "        \"\"\"\n",
    "        self.url = url\n",
    "        self.wait_time = wait_time\n",
    "\n",
    "        options = uc.ChromeOptions()\n",
    "        options.add_argument(\"--disable-gpu\")\n",
    "        options.add_argument(\"--no-sandbox\")\n",
    "        options.add_argument(\"--disable-dev-shm-usage\")\n",
    "        options.add_argument(\"--disable-blink-features=AutomationControlled\")\n",
    "        options.add_argument(\"start-maximized\")\n",
    "        options.add_argument(\n",
    "            \"user-agent=Mozilla/5.0 (Windows NT 10.0; Win64; x64) AppleWebKit/537.36 (KHTML, like Gecko) Chrome/117.0.0.0 Safari/537.36\"\n",
    "        )\n",
    "        if chrome_binary_path:\n",
    "            options.binary_location = chrome_binary_path\n",
    "\n",
    "        self.driver = uc.Chrome(options=options)\n",
    "\n",
    "        try:\n",
    "            # Load the URL\n",
    "            self.driver.get(url)\n",
    "\n",
    "            # Wait for Cloudflare or similar checks\n",
    "            time.sleep(10)\n",
    "\n",
    "            # Ensure the main content is loaded\n",
    "            WebDriverWait(self.driver, self.wait_time).until(\n",
    "                EC.presence_of_element_located((By.TAG_NAME, \"main\"))\n",
    "            )\n",
    "\n",
    "            # Extract the main content\n",
    "            main_content = self.driver.find_element(By.CSS_SELECTOR, \"main\").get_attribute(\"outerHTML\")\n",
    "\n",
    "            # Parse with BeautifulSoup\n",
    "            soup = BeautifulSoup(main_content, \"html.parser\")\n",
    "            self.title = self.driver.title if self.driver.title else \"No title found\"\n",
    "            self.text = soup.get_text(separator=\"\\n\", strip=True)\n",
    "\n",
    "        except Exception as e:\n",
    "            print(f\"Error occurred: {e}\")\n",
    "            self.title = \"Error occurred\"\n",
    "            self.text = \"\"\n",
    "\n",
    "        finally:\n",
    "            self.driver.quit()"
   ]
  },
  {
   "cell_type": "markdown",
   "id": "7e0322aa-cd5c-4c8f-9f63-1adf816ca682",
   "metadata": {},
   "source": [
    "### Prompt to summarize news from a single website for the model"
   ]
  },
  {
   "cell_type": "code",
   "execution_count": 3,
   "id": "8f6cd327-654c-449d-9319-697605bfaecc",
   "metadata": {},
   "outputs": [],
   "source": [
    "# See how this function creates exactly the format above\n",
    "\n",
    "# define a system prompt\n",
    "system_prompt = \"You are a crypto investor that searches website to extract and summarize daily latest \\\n",
    "crypto news that will impact the price of crypto. Ignore text that are not crypto related or that are not current news. \\\n",
    "Respond in markdown.\"\n",
    "\n",
    "# define a user prompt\n",
    "def user_prompt_for(website):\n",
    "    user_prompt = f\"You are looking at a website titled {website.title}\" \n",
    "    user_prompt += \"\\nThe contents of this website is as follows; please highlight top 3 breaking news related to cryptocurrencies.\\n\"\n",
    "    user_prompt += website.text\n",
    "    return user_prompt\n",
    "\n",
    "def messages_for(website):\n",
    "    return [\n",
    "        {\"role\": \"system\", \"content\": system_prompt},\n",
    "        {\"role\": \"user\", \"content\": user_prompt_for(website)}\n",
    "    ]"
   ]
  },
  {
   "cell_type": "code",
   "execution_count": 4,
   "id": "d16e3fb1-c7a1-4c6c-ae52-d53d288d670e",
   "metadata": {},
   "outputs": [
    {
     "name": "stderr",
     "output_type": "stream",
     "text": [
      "\u001b[?25l\u001b[?25h\u001b[?25lpulling manifest â ‹ \u001b[?25h\u001b[?25l\u001b[2K\u001b[1Gpulling manifest â ™ \u001b[?25h\u001b[?25l\u001b[2K\u001b[1Gpulling manifest â ¹ \u001b[?25h\u001b[?25l\u001b[2K\u001b[1Gpulling manifest â ¸ \u001b[?25h\u001b[?25l\u001b[2K\u001b[1Gpulling manifest â ¼ \u001b[?25h\u001b[?25l\u001b[2K\u001b[1Gpulling manifest â ´ \u001b[?25h\u001b[?25l\u001b[2K\u001b[1Gpulling manifest â ¦ \u001b[?25h\u001b[?25l\u001b[2K\u001b[1Gpulling manifest â § \u001b[?25h\u001b[?25l\u001b[2K\u001b[1Gpulling manifest â ‡ \u001b[?25h\u001b[?25l\u001b[2K\u001b[1Gpulling manifest â � \u001b[?25h\u001b[?25l\u001b[2K\u001b[1Gpulling manifest \n",
      "pulling aabd4debf0c8... 100% â–•â–ˆâ–ˆâ–ˆâ–ˆâ–ˆâ–ˆâ–ˆâ–ˆâ–ˆâ–ˆâ–ˆâ–ˆâ–ˆâ–ˆâ–ˆâ–ˆâ–� 1.1 GB                         \n",
      "pulling 369ca498f347... 100% â–•â–ˆâ–ˆâ–ˆâ–ˆâ–ˆâ–ˆâ–ˆâ–ˆâ–ˆâ–ˆâ–ˆâ–ˆâ–ˆâ–ˆâ–ˆâ–ˆâ–�  387 B                         \n",
      "pulling 6e4c38e1172f... 100% â–•â–ˆâ–ˆâ–ˆâ–ˆâ–ˆâ–ˆâ–ˆâ–ˆâ–ˆâ–ˆâ–ˆâ–ˆâ–ˆâ–ˆâ–ˆâ–ˆâ–� 1.1 KB                         \n",
      "pulling f4d24e9138dd... 100% â–•â–ˆâ–ˆâ–ˆâ–ˆâ–ˆâ–ˆâ–ˆâ–ˆâ–ˆâ–ˆâ–ˆâ–ˆâ–ˆâ–ˆâ–ˆâ–ˆâ–�  148 B                         \n",
      "pulling a85fe2a2e58e... 100% â–•â–ˆâ–ˆâ–ˆâ–ˆâ–ˆâ–ˆâ–ˆâ–ˆâ–ˆâ–ˆâ–ˆâ–ˆâ–ˆâ–ˆâ–ˆâ–ˆâ–�  487 B                         \n",
      "verifying sha256 digest \n",
      "writing manifest \n",
      "success \u001b[?25h\n"
     ]
    }
   ],
   "source": [
    "# set constants used by by ollama\n",
    "\n",
    "OLLAMA_API = \"http://locahost:11434/api/chat\"\n",
    "HEADERS = {\"Content-Type\": \"application/json\"}\n",
    "MODEL = \"deepseek-r1:1.5b\" #\"llama3.2\"\n",
    "\n",
    "chrome_path = \"C:/Program Files/Google/Chrome/Application/chrome.exe\"\n",
    "\n",
    "# to check if model is loaded\n",
    "#!ollama pull llama3.2\n",
    "!ollama pull deepseek-r1:1.5b"
   ]
  },
  {
   "cell_type": "markdown",
   "id": "0c8c642a-22b0-4177-842a-c8f18ca5a1d2",
   "metadata": {},
   "source": [
    "### Get latest crypto news from individual website"
   ]
  },
  {
   "cell_type": "code",
   "execution_count": null,
   "id": "4b580603-5889-4142-babb-685ee7e38b2d",
   "metadata": {},
   "outputs": [],
   "source": []
  },
  {
   "cell_type": "code",
   "execution_count": 5,
   "id": "4d90ed44-292c-49fa-8824-11a76c263dd2",
   "metadata": {},
   "outputs": [],
   "source": [
    "def new_summary(url, chrome_path):\n",
    "    web = WebsiteCrawler(url, 30, chrome_path)\n",
    "    message = messages_for(web)\n",
    "    try:\n",
    "        #response = requests.post(OLLAMA_API, json={\"model\":MODEL,\"messages\":message,\"stream\":False}, headers=HEADERS)\n",
    "        response = ollama.chat(model=MODEL, messages=message)\n",
    "    except:\n",
    "        print(\"Unable to use llama\")\n",
    "    print(response)\n",
    "    #web_summary = response.json()['message']['content']\n",
    "    web_summary = response['message']['content']\n",
    "    \n",
    "    return web_summary"
   ]
  },
  {
   "cell_type": "code",
   "execution_count": 6,
   "id": "7a322639-8053-462b-a9fc-288c071eda3e",
   "metadata": {},
   "outputs": [
    {
     "name": "stdout",
     "output_type": "stream",
     "text": [
      "model='deepseek-r1:1.5b' created_at='2025-02-03T05:16:58.4669196Z' done=True done_reason='stop' total_duration=275583084900 load_duration=5999276100 prompt_eval_count=2048 prompt_eval_duration=125211000000 eval_count=1219 eval_duration=143060000000 message=Message(role='assistant', content=\"<think>\\nOkay, so I'm trying to figure out how the mainnet of Tether is different from their smart contract version called Layer-2. I know that Tether has both a mainnet and a Layer-2 network, but I'm not exactly sure what each one does. Let me start by recalling some basic crypto knowledge.\\n\\nTether is a stablecoin that's pegged to the US dollar. It can be either on its mainnet or as a smart contract on Layer-2. The mainnet allows holders to trade Tether directly with other cryptocurrencies, while Layer-2 transactions are done via smart contracts without involving actual wallets. I remember hearing that Layer-2 is faster and more transparent.\\n\\nI think in the mainnet, users can perform standard transactions like buying or selling Tether, which probably allows them to engage in direct cryptocurrency trading. On the other hand, Layer-2 only handles smart contract interactions. Maybe the mainnet has less transparency because of the complexity of smart contracts? But I also recall that Layer-2 doesn't have a need for wallets because it's just transferring tokens via code.\\n\\nWait, so the Layer-2 isn't using wallets to trade Tether directly with other cryptocurrencies. That must mean it can handle transactions without needing to interact with user accounts or wallets. It probably acts as a bridge between different smart contracts. For example, one contract could be trading Tether for another cryptocurrency, and another contract could buy back Tether.\\n\\nI'm trying to imagine how this works on the blockchain. The Layer-2 would have its own chain, probably similar in structure to the mainnet but focused solely on transactions. Users can send tokens directly to Layer-2 nodes, which then execute smart contracts without any intermediaries. This setup might make the process faster and more efficient since there's no real-world involvement, only virtual interactions through code.\\n\\nI should also consider how this affects Tether's functionality beyond just being a stablecoin. As a stablecoin, it's used in various ways: as a reserve for other cryptocurrencies, a token that can be traded with others to exchange them, and even a token that could contribute to a game or something else if there are new uses. So, the different models of handling tokens on Layer-2 might expand its utility beyond just direct trading.\\n\\nAnother point is about security and transparency. Since it's all in code, maybe Layer-2 doesn't have the vulnerabilities that come with physical wallets. However, I'm not sure how trusted those transactions are once they're on Layer-2 because of the complexity. The mainnet might still be more regulated to ensure things don't go wrong.\\n\\nI wonder about the token supply management. If it's a smart contract-based system, maybe users can control how much Tether is created or destroyed through these smart contracts. That could give some users more influence over the token balance compared to direct transactions which might be less transparent and harder to manage.\\n\\nAlso, I'm thinking about how this affects existing Tether users who were using the mainnet. If Layer-2 is in place, maybe they'll transition away from mainnet usage for other crypto trading because it's faster on Layer-2. But as more smart contracts are added, perhaps the need for physical wallets might decrease.\\n\\nI should also consider if there are any challenges or issues with Layer-2 transactions that the mainnet avoids. Maybe there's a higher overhead in smart contract execution compared to live transactions, but given that Layer-2 isn't using actual wallets, it should be more streamlined and faster on-chain.\\n\\nIn summary, Tether's mainnet allows direct cryptocurrency trading through stablecoin users or other smart contracts. Layer-2 provides a smarter way for tokens to trade directly without intermediaries, making it fast and transparent but perhaps less regulatory in terms of token creation and management.\\n</think>\\n\\nTether's transition from the mainnet to its Layer-2 network involves a significant shift in how tokens are handled and traded. Here's a structured summary of this difference:\\n\\n1. **Mainnet Functionality**:\\n   - The mainnet enables direct cryptocurrency trading with users or other smart contracts.\\n   - Direct interactions allow for trade transactions, facilitating complex systems like-game development through token-based smart contracts.\\n   - It may involve intermediaries like wallets, which adds complexity and potential regulatory oversight.\\n\\n2. **Layer-2 Functionality**:\\n   - Layer-2 focuses solely on transactions between tokens via smart contracts.\\n   - These smart contracts handle the trading process without requiring user accounts or physical wallets, making it faster and more transparent.\\n   - Users can send Tether directly to nodes, which execute smart contracts for token exchanges.\\n\\n3. **Token Supply Management**:\\n   - Layer-2 allows users to control the supply of tokens through smart contracts, providing potential influence over balances.\\n   - This contrasts with direct transactions that may be less customizable and harder to manage due to complexity.\\n\\n4. **Security and Transparency**:\\n   - Layer-2 transactions are likely more trustworthy as they are virtual and not subject to real-world risks, potentially reducing vulnerabilities compared to physical wallets on the mainnet.\\n   - However, the complexity of smart contracts might still pose challenges in terms of regulatory compliance and token management.\\n\\n5. **Impact on Existing Users**:\\n   - Users transitioning from the mainnet may switch to Layer-2 due to its faster transactions on-chain.\\n   - As more smart contracts are added, the need for physical wallets may decrease, possibly leading to a shift away from mainnet usage.\\n\\n6. **Challenges and Considerations**:\\n   - While Layer-2 avoids intermediaries, it incurs execution overheads typical of smart contract operations compared to live transactions.\\n   - The transition aims to enhance efficiency and reduce regulatory complexity while expanding utility beyond direct trading.\\n\\nIn conclusion, Tether's Layer-2 model offers faster, more transparent transactions via smart contracts, potentially broadening its utility in cryptocurrency exchanges and game development. However, it introduces challenges related to transaction complexity and regulatory oversight.\", images=None, tool_calls=None)\n"
     ]
    }
   ],
   "source": [
    "summary = new_summary(\"https://www.coindesk.com\", chrome_path)"
   ]
  },
  {
   "cell_type": "code",
   "execution_count": 7,
   "id": "723575e2-c592-4230-b94e-a9f02bcca489",
   "metadata": {},
   "outputs": [
    {
     "data": {
      "text/plain": [
       "\"<think>\\nOkay, so I'm trying to figure out how the mainnet of Tether is different from their smart contract version called Layer-2. I know that Tether has both a mainnet and a Layer-2 network, but I'm not exactly sure what each one does. Let me start by recalling some basic crypto knowledge.\\n\\nTether is a stablecoin that's pegged to the US dollar. It can be either on its mainnet or as a smart contract on Layer-2. The mainnet allows holders to trade Tether directly with other cryptocurrencies, while Layer-2 transactions are done via smart contracts without involving actual wallets. I remember hearing that Layer-2 is faster and more transparent.\\n\\nI think in the mainnet, users can perform standard transactions like buying or selling Tether, which probably allows them to engage in direct cryptocurrency trading. On the other hand, Layer-2 only handles smart contract interactions. Maybe the mainnet has less transparency because of the complexity of smart contracts? But I also recall that Layer-2 doesn't have a need for wallets because it's just transferring tokens via code.\\n\\nWait, so the Layer-2 isn't using wallets to trade Tether directly with other cryptocurrencies. That must mean it can handle transactions without needing to interact with user accounts or wallets. It probably acts as a bridge between different smart contracts. For example, one contract could be trading Tether for another cryptocurrency, and another contract could buy back Tether.\\n\\nI'm trying to imagine how this works on the blockchain. The Layer-2 would have its own chain, probably similar in structure to the mainnet but focused solely on transactions. Users can send tokens directly to Layer-2 nodes, which then execute smart contracts without any intermediaries. This setup might make the process faster and more efficient since there's no real-world involvement, only virtual interactions through code.\\n\\nI should also consider how this affects Tether's functionality beyond just being a stablecoin. As a stablecoin, it's used in various ways: as a reserve for other cryptocurrencies, a token that can be traded with others to exchange them, and even a token that could contribute to a game or something else if there are new uses. So, the different models of handling tokens on Layer-2 might expand its utility beyond just direct trading.\\n\\nAnother point is about security and transparency. Since it's all in code, maybe Layer-2 doesn't have the vulnerabilities that come with physical wallets. However, I'm not sure how trusted those transactions are once they're on Layer-2 because of the complexity. The mainnet might still be more regulated to ensure things don't go wrong.\\n\\nI wonder about the token supply management. If it's a smart contract-based system, maybe users can control how much Tether is created or destroyed through these smart contracts. That could give some users more influence over the token balance compared to direct transactions which might be less transparent and harder to manage.\\n\\nAlso, I'm thinking about how this affects existing Tether users who were using the mainnet. If Layer-2 is in place, maybe they'll transition away from mainnet usage for other crypto trading because it's faster on Layer-2. But as more smart contracts are added, perhaps the need for physical wallets might decrease.\\n\\nI should also consider if there are any challenges or issues with Layer-2 transactions that the mainnet avoids. Maybe there's a higher overhead in smart contract execution compared to live transactions, but given that Layer-2 isn't using actual wallets, it should be more streamlined and faster on-chain.\\n\\nIn summary, Tether's mainnet allows direct cryptocurrency trading through stablecoin users or other smart contracts. Layer-2 provides a smarter way for tokens to trade directly without intermediaries, making it fast and transparent but perhaps less regulatory in terms of token creation and management.\\n</think>\\n\\nTether's transition from the mainnet to its Layer-2 network involves a significant shift in how tokens are handled and traded. Here's a structured summary of this difference:\\n\\n1. **Mainnet Functionality**:\\n   - The mainnet enables direct cryptocurrency trading with users or other smart contracts.\\n   - Direct interactions allow for trade transactions, facilitating complex systems like-game development through token-based smart contracts.\\n   - It may involve intermediaries like wallets, which adds complexity and potential regulatory oversight.\\n\\n2. **Layer-2 Functionality**:\\n   - Layer-2 focuses solely on transactions between tokens via smart contracts.\\n   - These smart contracts handle the trading process without requiring user accounts or physical wallets, making it faster and more transparent.\\n   - Users can send Tether directly to nodes, which execute smart contracts for token exchanges.\\n\\n3. **Token Supply Management**:\\n   - Layer-2 allows users to control the supply of tokens through smart contracts, providing potential influence over balances.\\n   - This contrasts with direct transactions that may be less customizable and harder to manage due to complexity.\\n\\n4. **Security and Transparency**:\\n   - Layer-2 transactions are likely more trustworthy as they are virtual and not subject to real-world risks, potentially reducing vulnerabilities compared to physical wallets on the mainnet.\\n   - However, the complexity of smart contracts might still pose challenges in terms of regulatory compliance and token management.\\n\\n5. **Impact on Existing Users**:\\n   - Users transitioning from the mainnet may switch to Layer-2 due to its faster transactions on-chain.\\n   - As more smart contracts are added, the need for physical wallets may decrease, possibly leading to a shift away from mainnet usage.\\n\\n6. **Challenges and Considerations**:\\n   - While Layer-2 avoids intermediaries, it incurs execution overheads typical of smart contract operations compared to live transactions.\\n   - The transition aims to enhance efficiency and reduce regulatory complexity while expanding utility beyond direct trading.\\n\\nIn conclusion, Tether's Layer-2 model offers faster, more transparent transactions via smart contracts, potentially broadening its utility in cryptocurrency exchanges and game development. However, it introduces challenges related to transaction complexity and regulatory oversight.\""
      ]
     },
     "execution_count": 7,
     "metadata": {},
     "output_type": "execute_result"
    }
   ],
   "source": [
    "summary"
   ]
  },
  {
   "cell_type": "markdown",
   "id": "8176ffda-447c-4323-8149-7a307a458ba8",
   "metadata": {},
   "source": [
    "### Get Top Crypto news from 10 crypto website"
   ]
  },
  {
   "cell_type": "code",
   "execution_count": null,
   "id": "f74ab972-fa5a-4173-98b6-933dea6e6cd1",
   "metadata": {},
   "outputs": [],
   "source": [
    "website_list = [\n",
    "    \"https://www.coindesk.com\",\n",
    "    \"https://www.cointelegraph.com/\",\n",
    "    \"https://www.u.today/\",\n",
    "    \"https://www.decrypt.co/\",\n",
    "    \"https://www.cryptotimes.io\",\n",
    "    \"https://www.coinbureau.com\",\n",
    "    \"https://www.blockworks.co\",\n",
    "    \"https://www.bloomberg.com/crypto\",\n",
    "    \"https://www.news.bitcoin.com/\",\n",
    "    \"https://www.cryptonews.com/\"\n",
    "    ] \n",
    "\n",
    "news_stack = {}\n",
    "for website in website_list:\n",
    "    # try:\n",
    "    summary = new_summary(website, chrome_path)\n",
    "    # except:\n",
    "    # print(f\"Unable to access {website}\")\n",
    "    news_stack[website] = summary"
   ]
  },
  {
   "cell_type": "code",
   "execution_count": null,
   "id": "bc263470-3ff7-4379-9588-c5cafadfeba0",
   "metadata": {},
   "outputs": [],
   "source": [
    "news_stack"
   ]
  },
  {
   "cell_type": "markdown",
   "id": "f14cb092-3a89-4cf1-83a1-969695b0c1a3",
   "metadata": {},
   "source": [
    "### Prompt to summarize the result of multiple website's news highlights"
   ]
  },
  {
   "cell_type": "code",
   "execution_count": null,
   "id": "4df7b88d-403d-4980-851c-0a97b64beeab",
   "metadata": {},
   "outputs": [],
   "source": [
    "# define a system prompt\n",
    "system_prompt = \"You are a crypto news analyst named Amy, that reports crypto news. \\\n",
    "Prepare the news in a format that can be emailed to crypto Enthusiast. \\\n",
    "Add the source to each news\"\n",
    "\n",
    "# define a user prompt\n",
    "def user_prompt(all_news):\n",
    "    user_prompt = f\"You are looking at the content of a Python dictionary where the key is the source website and \\\n",
    "    the values are the top 3 latest news from that website.\" \n",
    "    user_prompt += \"\\nThe contents of this dictionary are as follows; Please combine and summarize \\\n",
    "    all the news avoiding duplicating the information. Highlight the top 12 latest news that \\\n",
    "    have a high impact on cryptocurrencies price. \\\n",
    "    When a news appears in multiple sources, identify all the website sources it appeared in.\\n\"\n",
    "    for source, news in all_news.items():\n",
    "        user_prompt += f\"source={source}, news = {news}\"\n",
    "    return user_prompt\n",
    "\n",
    "def messages(all_news):\n",
    "    return [\n",
    "        {\"role\": \"system\", \"content\": system_prompt},\n",
    "        {\"role\": \"user\", \"content\": user_prompt(all_news)}\n",
    "    ]"
   ]
  },
  {
   "cell_type": "markdown",
   "id": "362dd3c0-d84a-42cf-81a6-2e48f0031c0e",
   "metadata": {},
   "source": [
    "### Summarize all highlighted news from all the websites"
   ]
  },
  {
   "cell_type": "code",
   "execution_count": null,
   "id": "dbda4dfd-e2d6-4682-b3f9-a8f15a0f0d39",
   "metadata": {},
   "outputs": [],
   "source": [
    "def final_summary(news):\n",
    "    web = WebsiteCrawler(url, 30, chrome_path)\n",
    "    message = messages_for(web)\n",
    "    try:\n",
    "        #response = requests.post(OLLAMA_API, json={\"model\":MODEL,\"messages\":message,\"stream\":False}, headers=HEADERS)\n",
    "        response = ollama.chat(model=MODEL, messages=message)\n",
    "    except:\n",
    "        print(\"Unable to use llama\")\n",
    "    print(response)\n",
    "    #web_summary = response.json()['message']['content']\n",
    "    web_summary = response['message']['content']\n",
    "    \n",
    "    return web_summary"
   ]
  },
  {
   "cell_type": "code",
   "execution_count": null,
   "id": "8332206a-bbb7-438a-b27e-7a201df9b9f5",
   "metadata": {},
   "outputs": [],
   "source": [
    "# call the final_summary() into a variable 'email' which contains the summarized news\n",
    "email = final_summary(news_stack)"
   ]
  },
  {
   "cell_type": "markdown",
   "id": "2f6b2ee7-da89-46e5-8589-dfffb18d294e",
   "metadata": {},
   "source": [
    "### Email latest news"
   ]
  },
  {
   "cell_type": "code",
   "execution_count": null,
   "id": "ca939809-ddf0-44e4-a1af-7c4225c4b0b1",
   "metadata": {},
   "outputs": [],
   "source": [
    "# this is what the email looks like in string format\n",
    "email"
   ]
  },
  {
   "cell_type": "code",
   "execution_count": null,
   "id": "0ef8d76c-eb36-43c7-9a26-87cfd756c08d",
   "metadata": {},
   "outputs": [],
   "source": [
    "from email.message import EmailMessage\n",
    "import ssl\n",
    "import smtplib"
   ]
  },
  {
   "cell_type": "raw",
   "id": "7678ec2d-1c34-4fd4-b124-f773b3c2c5e6",
   "metadata": {},
   "source": [
    "for key, value in os.environ.items():\n",
    "    print(f\"{key} : {value}\")"
   ]
  },
  {
   "cell_type": "code",
   "execution_count": null,
   "id": "ffc81f03-c517-4b10-824b-f7ca2ed7a2df",
   "metadata": {},
   "outputs": [],
   "source": [
    "# identify the email sender and receiver\n",
    "sender = \"chiamy694@gmail.com\"\n",
    "password = os.environ.get('EMAIL_PASSWORD')\n",
    "receiver = \"priscacare20@gmail.com\""
   ]
  },
  {
   "cell_type": "code",
   "execution_count": null,
   "id": "dacdeeff-42b2-49d6-aebf-83b7881dc3be",
   "metadata": {},
   "outputs": [],
   "source": [
    "# extract the subject of the email\n",
    "subject = email.split('\\n')[0][9:]"
   ]
  },
  {
   "cell_type": "code",
   "execution_count": null,
   "id": "f8f4fc72-6b1a-4cbf-92fd-2e9725c77a2a",
   "metadata": {},
   "outputs": [],
   "source": [
    "# extract the body of the email\n",
    "body = '\\n'.join(email.split('\\n')[1:])"
   ]
  },
  {
   "cell_type": "code",
   "execution_count": null,
   "id": "2cfd6064-e3ed-4dfb-ba36-14bef5d79b0c",
   "metadata": {},
   "outputs": [],
   "source": [
    "Markdown(body)"
   ]
  },
  {
   "cell_type": "code",
   "execution_count": null,
   "id": "0517a6c3-108f-42f4-917f-0eb043ea94d4",
   "metadata": {},
   "outputs": [],
   "source": [
    "# sending the email using emailmessage package\n",
    "email_message = EmailMessage()\n",
    "email_message[\"From\"] = sender\n",
    "email_message[\"To\"] = receiver\n",
    "email_message[\"Subject\"] = subject\n",
    "email_message.set_content(body)\n",
    "\n",
    "# to add a layer of security\n",
    "context = ssl.create_default_context()\n",
    "#send email with smtp\n",
    "with smtplib.SMTP_SSL(\"smtp.gmail.com\", 465, context=context) as smtp:\n",
    "    smtp.login(sender, password)\n",
    "    smtp.sendmail(sender, receiver, email_message.as_string())"
   ]
  },
  {
   "cell_type": "code",
   "execution_count": null,
   "id": "51d8216b-f0d7-407f-bdf8-ce7d9b272f96",
   "metadata": {},
   "outputs": [],
   "source": []
  }
 ],
 "metadata": {
  "kernelspec": {
   "display_name": "Python 3 (ipykernel)",
   "language": "python",
   "name": "python3"
  },
  "language_info": {
   "codemirror_mode": {
    "name": "ipython",
    "version": 3
   },
   "file_extension": ".py",
   "mimetype": "text/x-python",
   "name": "python",
   "nbconvert_exporter": "python",
   "pygments_lexer": "ipython3",
   "version": "3.10.16"
  }
 },
 "nbformat": 4,
 "nbformat_minor": 5
}
