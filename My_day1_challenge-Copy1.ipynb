{
 "cells": [
  {
   "cell_type": "markdown",
   "id": "2cbafcac-0ed2-4e06-9b74-d9a8fdd16922",
   "metadata": {},
   "source": [
    "## Purpose:\n",
    "This code uses gpt to summarize the latest crypto news from 10 best crypto websites and emails the result to my mailbox."
   ]
  },
  {
   "cell_type": "code",
   "execution_count": 1,
   "id": "f4936bbd-342d-4436-b7c7-12d574d867f8",
   "metadata": {},
   "outputs": [],
   "source": [
    "# imports\n",
    "\n",
    "import os\n",
    "import requests\n",
    "from dotenv import load_dotenv\n",
    "from IPython.display import Markdown, display\n",
    "from openai import OpenAI\n",
    "\n",
    "# import web scrappers libraries\n",
    "import undetected_chromedriver as uc\n",
    "from selenium.webdriver.common.by import By\n",
    "from selenium.webdriver.support.ui import WebDriverWait\n",
    "from selenium.webdriver.support import expected_conditions as EC\n",
    "from bs4 import BeautifulSoup\n",
    "import time"
   ]
  },
  {
   "cell_type": "markdown",
   "id": "f9ad5fbe-928d-47a3-8652-ca4be3392e15",
   "metadata": {},
   "source": [
    "### Define a website scrapper class to collect data from any website"
   ]
  },
  {
   "cell_type": "code",
   "execution_count": 2,
   "id": "40a1f072-4525-4bbf-af0e-30b9da82feca",
   "metadata": {},
   "outputs": [],
   "source": [
    "class WebsiteCrawler:\n",
    "    def __init__(self, url, wait_time=20, chrome_binary_path=None):\n",
    "        \"\"\"\n",
    "        Initialize the WebsiteCrawler using Selenium to scrape JavaScript-rendered content.\n",
    "        \"\"\"\n",
    "        self.url = url\n",
    "        self.wait_time = wait_time\n",
    "\n",
    "        options = uc.ChromeOptions()\n",
    "        options.add_argument(\"--disable-gpu\")\n",
    "        options.add_argument(\"--no-sandbox\")\n",
    "        options.add_argument(\"--disable-dev-shm-usage\")\n",
    "        options.add_argument(\"--disable-blink-features=AutomationControlled\")\n",
    "        options.add_argument(\"start-maximized\")\n",
    "        options.add_argument(\n",
    "            \"user-agent=Mozilla/5.0 (Windows NT 10.0; Win64; x64) AppleWebKit/537.36 (KHTML, like Gecko) Chrome/117.0.0.0 Safari/537.36\"\n",
    "        )\n",
    "        if chrome_binary_path:\n",
    "            options.binary_location = chrome_binary_path\n",
    "\n",
    "        self.driver = uc.Chrome(options=options)\n",
    "\n",
    "        try:\n",
    "            # Load the URL\n",
    "            self.driver.get(url)\n",
    "\n",
    "            # Wait for Cloudflare or similar checks\n",
    "            time.sleep(10)\n",
    "\n",
    "            # Ensure the main content is loaded\n",
    "            WebDriverWait(self.driver, self.wait_time).until(\n",
    "                EC.presence_of_element_located((By.TAG_NAME, \"main\"))\n",
    "            )\n",
    "\n",
    "            # Extract the main content\n",
    "            main_content = self.driver.find_element(By.CSS_SELECTOR, \"main\").get_attribute(\"outerHTML\")\n",
    "\n",
    "            # Parse with BeautifulSoup\n",
    "            soup = BeautifulSoup(main_content, \"html.parser\")\n",
    "            self.title = self.driver.title if self.driver.title else \"No title found\"\n",
    "            self.text = soup.get_text(separator=\"\\n\", strip=True)\n",
    "\n",
    "        except Exception as e:\n",
    "            print(f\"Error occurred: {e}\")\n",
    "            self.title = \"Error occurred\"\n",
    "            self.text = \"\"\n",
    "\n",
    "        finally:\n",
    "            self.driver.quit()"
   ]
  },
  {
   "cell_type": "markdown",
   "id": "7e0322aa-cd5c-4c8f-9f63-1adf816ca682",
   "metadata": {},
   "source": [
    "### Prompt to summarize news from a single website for the model"
   ]
  },
  {
   "cell_type": "code",
   "execution_count": 3,
   "id": "8f6cd327-654c-449d-9319-697605bfaecc",
   "metadata": {},
   "outputs": [],
   "source": [
    "# See how this function creates exactly the format above\n",
    "\n",
    "# define a system prompt\n",
    "system_prompt = \"You are a crypto investor that searches website to extract and summarize daily latest \\\n",
    "crypto news that will impact the price of crypto. Ignore text that are not crypto related or that are not current news. \\\n",
    "Respond in markdown.\"\n",
    "\n",
    "# define a user prompt\n",
    "def user_prompt_for(website):\n",
    "    user_prompt = f\"You are looking at a website titled {website.title}\" \n",
    "    user_prompt += \"\\nThe contents of this website is as follows; please highlight top 3 breaking news related to cryptocurrencies.\\n\"\n",
    "    user_prompt += website.text\n",
    "    return user_prompt\n",
    "\n",
    "def messages_for(website):\n",
    "    return [\n",
    "        {\"role\": \"system\", \"content\": system_prompt},\n",
    "        {\"role\": \"user\", \"content\": user_prompt_for(website)}\n",
    "    ]"
   ]
  },
  {
   "cell_type": "code",
   "execution_count": 4,
   "id": "167ac3f6-e250-484b-a20e-866effe4ba32",
   "metadata": {},
   "outputs": [
    {
     "name": "stdout",
     "output_type": "stream",
     "text": [
      "API key found and looks good so far!\n"
     ]
    }
   ],
   "source": [
    "# Load environment variables in a file called .env\n",
    "\n",
    "load_dotenv()\n",
    "api_key = os.getenv('OPENAI_API_KEY')\n",
    "\n",
    "# Check the key\n",
    "\n",
    "if not api_key:\n",
    "    print(\"No API key was found - please head over to the troubleshooting notebook in this folder to identify & fix!\")\n",
    "elif not api_key.startswith(\"sk-proj-\"):\n",
    "    print(\"An API key was found, but it doesn't start sk-proj-; please check you're using the right key - see troubleshooting notebook\")\n",
    "elif api_key.strip() != api_key:\n",
    "    print(\"An API key was found, but it looks like it might have space or tab characters at the start or end - please remove them - see troubleshooting notebook\")\n",
    "else:\n",
    "    print(\"API key found and looks good so far!\")\n",
    "\n",
    "chrome_path = \"C:/Program Files/Google/Chrome/Application/chrome.exe\"\n",
    "openai = OpenAI()"
   ]
  },
  {
   "cell_type": "markdown",
   "id": "0c8c642a-22b0-4177-842a-c8f18ca5a1d2",
   "metadata": {},
   "source": [
    "### Get latest crypto news from individual website"
   ]
  },
  {
   "cell_type": "code",
   "execution_count": 5,
   "id": "4d90ed44-292c-49fa-8824-11a76c263dd2",
   "metadata": {},
   "outputs": [],
   "source": [
    "def new_summary(url, chrome_path):\n",
    "    web = WebsiteCrawler(url, 30, chrome_path)\n",
    "\n",
    "    response = openai.chat.completions.create(\n",
    "            model = \"gpt-4o-mini\",\n",
    "            messages = messages_for(web)\n",
    "        )\n",
    "\n",
    "    web_summary = response.choices[0].message.content\n",
    "    \n",
    "    return web_summary"
   ]
  },
  {
   "cell_type": "markdown",
   "id": "8176ffda-447c-4323-8149-7a307a458ba8",
   "metadata": {},
   "source": [
    "### Get Top Crypto news from 10 crypto website"
   ]
  },
  {
   "cell_type": "code",
   "execution_count": 8,
   "id": "f74ab972-fa5a-4173-98b6-933dea6e6cd1",
   "metadata": {},
   "outputs": [
    {
     "name": "stdout",
     "output_type": "stream",
     "text": [
      "Unable to access https://www.cointelegraph.com/\n"
     ]
    },
    {
     "ename": "NameError",
     "evalue": "name 'summary' is not defined",
     "output_type": "error",
     "traceback": [
      "\u001b[1;31m---------------------------------------------------------------------------\u001b[0m",
      "\u001b[1;31mNameError\u001b[0m                                 Traceback (most recent call last)",
      "Cell \u001b[1;32mIn[8], line 20\u001b[0m\n\u001b[0;32m     18\u001b[0m \u001b[38;5;28;01mexcept\u001b[39;00m:\n\u001b[0;32m     19\u001b[0m     \u001b[38;5;28mprint\u001b[39m(\u001b[38;5;124mf\u001b[39m\u001b[38;5;124m\"\u001b[39m\u001b[38;5;124mUnable to access \u001b[39m\u001b[38;5;132;01m{\u001b[39;00mwebsite\u001b[38;5;132;01m}\u001b[39;00m\u001b[38;5;124m\"\u001b[39m)\n\u001b[1;32m---> 20\u001b[0m news_stack[website] \u001b[38;5;241m=\u001b[39m \u001b[43msummary\u001b[49m\n",
      "\u001b[1;31mNameError\u001b[0m: name 'summary' is not defined"
     ]
    }
   ],
   "source": [
    "website_list = [\n",
    "    #\"https://www.coindesk.com\",\n",
    "    \"https://www.cointelegraph.com/\",\n",
    "    \"https://www.u.today/\",\n",
    "    \"https://www.decrypt.co/\",\n",
    "    \"https://www.cryptotimes.io\",\n",
    "    \"https://www.coinbureau.com\",\n",
    "    \"https://www.blockworks.co\",\n",
    "    \"https://www.bloomberg.com/crypto\",\n",
    "    \"https://www.news.bitcoin.com/\",\n",
    "    \"https://www.cryptonews.com/\"\n",
    "    ] \n",
    "\n",
    "news_stack = {}\n",
    "for website in website_list:\n",
    "    try:\n",
    "        summary = new_summary(website, chrome_path)\n",
    "    except:\n",
    "        print(f\"Unable to access {website}\")\n",
    "    news_stack[website] = summary"
   ]
  },
  {
   "cell_type": "code",
   "execution_count": null,
   "id": "bc263470-3ff7-4379-9588-c5cafadfeba0",
   "metadata": {},
   "outputs": [],
   "source": [
    "news_stack"
   ]
  },
  {
   "cell_type": "markdown",
   "id": "f14cb092-3a89-4cf1-83a1-969695b0c1a3",
   "metadata": {},
   "source": [
    "### Prompt to summarize the result of multiple website's news highlights"
   ]
  },
  {
   "cell_type": "code",
   "execution_count": null,
   "id": "4df7b88d-403d-4980-851c-0a97b64beeab",
   "metadata": {},
   "outputs": [],
   "source": [
    "# define a system prompt\n",
    "system_prompt = \"You are a crypto news analyst named Amy, that reports crypto news. \\\n",
    "Prepare the news in a format that can be emailed to crypto Enthusiast. \\\n",
    "Add the source to each news\"\n",
    "\n",
    "# define a user prompt\n",
    "def user_prompt(all_news):\n",
    "    user_prompt = f\"You are looking at the content of a Python dictionary where the key is the source website and \\\n",
    "    the values are the top 3 latest news from that website.\" \n",
    "    user_prompt += \"\\nThe contents of this dictionary are as follows; Please combine and summarize \\\n",
    "    all the news avoiding duplicating the information. Highlight the top 12 latest news that \\\n",
    "    have a high impact on cryptocurrencies price. \\\n",
    "    When a news appears in multiple sources, identify all the website sources it appeared in.\\n\"\n",
    "    for source, news in all_news.items():\n",
    "        user_prompt += f\"source={source}, news = {news}\"\n",
    "    return user_prompt\n",
    "\n",
    "def messages(all_news):\n",
    "    return [\n",
    "        {\"role\": \"system\", \"content\": system_prompt},\n",
    "        {\"role\": \"user\", \"content\": user_prompt(all_news)}\n",
    "    ]"
   ]
  },
  {
   "cell_type": "markdown",
   "id": "362dd3c0-d84a-42cf-81a6-2e48f0031c0e",
   "metadata": {},
   "source": [
    "### Summarize all highlighted news from all the websites"
   ]
  },
  {
   "cell_type": "code",
   "execution_count": null,
   "id": "dbda4dfd-e2d6-4682-b3f9-a8f15a0f0d39",
   "metadata": {},
   "outputs": [],
   "source": [
    "def final_summary(news):\n",
    "    response = openai.chat.completions.create(\n",
    "            model = \"gpt-4o-mini\",\n",
    "            messages = messages(news)\n",
    "        )\n",
    "\n",
    "    web_summary = response.choices[0].message.content\n",
    "    display(Markdown(web_summary))\n",
    "    return web_summary"
   ]
  },
  {
   "cell_type": "code",
   "execution_count": null,
   "id": "8332206a-bbb7-438a-b27e-7a201df9b9f5",
   "metadata": {},
   "outputs": [],
   "source": [
    "# call the final_summary() into a variable 'email' which contains the summarized news\n",
    "email = final_summary(news_stack)"
   ]
  },
  {
   "cell_type": "markdown",
   "id": "2f6b2ee7-da89-46e5-8589-dfffb18d294e",
   "metadata": {},
   "source": [
    "### Email latest news"
   ]
  },
  {
   "cell_type": "code",
   "execution_count": null,
   "id": "ca939809-ddf0-44e4-a1af-7c4225c4b0b1",
   "metadata": {},
   "outputs": [],
   "source": [
    "# this is what the email looks like in string format\n",
    "email"
   ]
  },
  {
   "cell_type": "code",
   "execution_count": null,
   "id": "0ef8d76c-eb36-43c7-9a26-87cfd756c08d",
   "metadata": {},
   "outputs": [],
   "source": [
    "from email.message import EmailMessage\n",
    "import ssl\n",
    "import smtplib"
   ]
  },
  {
   "cell_type": "code",
   "execution_count": null,
   "id": "ffc81f03-c517-4b10-824b-f7ca2ed7a2df",
   "metadata": {},
   "outputs": [],
   "source": [
    "# identify the email sender and receiver\n",
    "sender = \"chiamy694@gmail.com\"\n",
    "password = os.getenv('EMAIL_PASSWORD')\n",
    "receiver = \"priscacare20@gmail.com\""
   ]
  },
  {
   "cell_type": "code",
   "execution_count": null,
   "id": "dacdeeff-42b2-49d6-aebf-83b7881dc3be",
   "metadata": {},
   "outputs": [],
   "source": [
    "# extract the subject of the email\n",
    "subject = email.split('\\n')[0][9:]"
   ]
  },
  {
   "cell_type": "code",
   "execution_count": null,
   "id": "f8f4fc72-6b1a-4cbf-92fd-2e9725c77a2a",
   "metadata": {},
   "outputs": [],
   "source": [
    "# extract the body of the email\n",
    "body = '\\n'.join(email.split('\\n')[1:])"
   ]
  },
  {
   "cell_type": "code",
   "execution_count": null,
   "id": "2cfd6064-e3ed-4dfb-ba36-14bef5d79b0c",
   "metadata": {},
   "outputs": [],
   "source": [
    "Markdown(body)"
   ]
  },
  {
   "cell_type": "code",
   "execution_count": null,
   "id": "0517a6c3-108f-42f4-917f-0eb043ea94d4",
   "metadata": {},
   "outputs": [],
   "source": [
    "# sending the email using emailmessage package\n",
    "email_message = EmailMessage()\n",
    "email_message[\"From\"] = sender\n",
    "email_message[\"To\"] = receiver\n",
    "email_message[\"Subject\"] = subject\n",
    "email_message.set_content(body)\n",
    "\n",
    "# to add a layer of security\n",
    "context = ssl.create_default_context()\n",
    "#send email with smtp\n",
    "with smtplib.SMTP_SSL(\"smtp.gmail.com\", 465, context=context) as smtp:\n",
    "    smtp.login(sender, password)\n",
    "    smtp.sendmail(sender, receiver, email_message.as_string())"
   ]
  },
  {
   "cell_type": "code",
   "execution_count": null,
   "id": "51d8216b-f0d7-407f-bdf8-ce7d9b272f96",
   "metadata": {},
   "outputs": [],
   "source": []
  }
 ],
 "metadata": {
  "kernelspec": {
   "display_name": "Python 3 (ipykernel)",
   "language": "python",
   "name": "python3"
  },
  "language_info": {
   "codemirror_mode": {
    "name": "ipython",
    "version": 3
   },
   "file_extension": ".py",
   "mimetype": "text/x-python",
   "name": "python",
   "nbconvert_exporter": "python",
   "pygments_lexer": "ipython3",
   "version": "3.11.9"
  }
 },
 "nbformat": 4,
 "nbformat_minor": 5
}
